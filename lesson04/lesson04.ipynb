{
 "cells": [
  {
   "cell_type": "markdown",
   "metadata": {},
   "source": [
    "# ДЗ 4 Тема “Обучение без учителя”"
   ]
  },
  {
   "cell_type": "markdown",
   "metadata": {},
   "source": [
    "№ Задание 1\n",
    "Импортируйте библиотеки pandas, numpy и matplotlib."
   ]
  },
  {
   "cell_type": "code",
   "execution_count": 2,
   "metadata": {},
   "outputs": [],
   "source": [
    "import pandas as pd\n",
    "import numpy as np\n",
    "import matplotlib as mp"
   ]
  },
  {
   "cell_type": "markdown",
   "metadata": {},
   "source": [
    "Загрузите \"Boston House Prices dataset\" из встроенных наборов данных библиотеки sklearn\n",
    "\n",
    "Создайте датафреймы X и y из этих данных."
   ]
  },
  {
   "cell_type": "code",
   "execution_count": 3,
   "metadata": {},
   "outputs": [
    {
     "name": "stdout",
     "output_type": "stream",
     "text": [
      "<class 'pandas.core.frame.DataFrame'>\n",
      "RangeIndex: 506 entries, 0 to 505\n",
      "Data columns (total 13 columns):\n",
      " #   Column   Non-Null Count  Dtype  \n",
      "---  ------   --------------  -----  \n",
      " 0   CRIM     506 non-null    float64\n",
      " 1   ZN       506 non-null    float64\n",
      " 2   INDUS    506 non-null    float64\n",
      " 3   CHAS     506 non-null    float64\n",
      " 4   NOX      506 non-null    float64\n",
      " 5   RM       506 non-null    float64\n",
      " 6   AGE      506 non-null    float64\n",
      " 7   DIS      506 non-null    float64\n",
      " 8   RAD      506 non-null    float64\n",
      " 9   TAX      506 non-null    float64\n",
      " 10  PTRATIO  506 non-null    float64\n",
      " 11  B        506 non-null    float64\n",
      " 12  LSTAT    506 non-null    float64\n",
      "dtypes: float64(13)\n",
      "memory usage: 51.5 KB\n"
     ]
    }
   ],
   "source": [
    "from sklearn.datasets import load_boston\n",
    "\n",
    "boston = load_boston()\n",
    "\n",
    "X = pd.DataFrame(boston.data, columns=boston.feature_names)\n",
    "y = boston.target\n",
    "\n",
    "X.info()"
   ]
  },
  {
   "cell_type": "markdown",
   "metadata": {},
   "source": [
    "Разбейте эти датафреймы на тренировочные (X_train, y_train) и тестовые (X_test, y_test) с помощью функции train_test_split так, чтобы размер тестовой выборки составлял 20% от всех данных, при этом аргумент random_state должен быть равен 42."
   ]
  },
  {
   "cell_type": "code",
   "execution_count": 4,
   "metadata": {},
   "outputs": [],
   "source": [
    "from sklearn.model_selection import train_test_split\n",
    "\n",
    "X_train, X_test, y_train, y_test = train_test_split(X, y, test_size=0.2, random_state=42)"
   ]
  },
  {
   "cell_type": "markdown",
   "metadata": {},
   "source": [
    "Масштабируйте данные с помощью StandardScaler."
   ]
  },
  {
   "cell_type": "code",
   "execution_count": 6,
   "metadata": {},
   "outputs": [],
   "source": [
    "from sklearn.preprocessing import StandardScaler\n",
    "\n",
    "scaler = StandardScaler()\n",
    "\n",
    "X_train_scaled = pd.DataFrame(scaler.fit_transform(X_train), columns=X_train.columns)\n",
    "X_test_scaled = pd.DataFrame(scaler.transform(X_test), columns=X_test.columns)"
   ]
  },
  {
   "cell_type": "markdown",
   "metadata": {},
   "source": [
    "Постройте модель TSNE на тренировочный данных с параметрами:\n",
    "n_components=2, learning_rate=250, random_state=42."
   ]
  },
  {
   "cell_type": "code",
   "execution_count": 9,
   "metadata": {},
   "outputs": [
    {
     "name": "stdout",
     "output_type": "stream",
     "text": [
      "До:\t(404, 13)\n",
      "После:\t(404, 2)\n"
     ]
    }
   ],
   "source": [
    "from sklearn.manifold import TSNE\n",
    "\n",
    "tsne = TSNE(n_components=2, learning_rate=250, random_state=42)\n",
    "\n",
    "X_train_tsne = tsne.fit_transform(X_train_scaled)\n",
    "\n",
    "print('До:\\t{}'.format(X_train_scaled.shape))\n",
    "print('После:\\t{}'.format(X_train_tsne.shape))"
   ]
  },
  {
   "cell_type": "markdown",
   "metadata": {},
   "source": [
    "Постройте диаграмму рассеяния на этих данных."
   ]
  },
  {
   "cell_type": "code",
   "execution_count": 18,
   "metadata": {},
   "outputs": [
    {
     "data": {
      "text/plain": [
       "<matplotlib.collections.PathCollection at 0x1c94b930f08>"
      ]
     },
     "execution_count": 18,
     "metadata": {},
     "output_type": "execute_result"
    },
    {
     "data": {
      "image/png": "[encoded data removed]",
      "text/plain": [
       "<Figure size 432x288 with 1 Axes>"
      ]
     },
     "metadata": {
      "needs_background": "light"
     },
     "output_type": "display_data"
    }
   ],
   "source": [
    "import matplotlib.pyplot as plt\n",
    "\n",
    "plt.scatter(X_train_tsne[:, 0], X_train_tsne[:, 1])"
   ]
  },
  {
   "cell_type": "markdown",
   "metadata": {},
   "source": [
    "## Задание 2\n",
    "С помощью KMeans разбейте данные из тренировочного набора на 3 кластера, используйте все признаки из датафрейма X_train.\n",
    "\n",
    "Параметр max_iter должен быть равен 100, random_state сделайте равным 42."
   ]
  },
  {
   "cell_type": "code",
   "execution_count": 41,
   "metadata": {},
   "outputs": [
    {
     "name": "stdout",
     "output_type": "stream",
     "text": [
      "[1 2 0 1 2 0 0 0 1 1 0 2 2 1 2 2 2 0 0 0 1 2 0 0 0 2 2 0 2 0 2 2 2 1 0 0 0\n",
      " 2 2 0 0 2 1 2 2 1 2 2 1 1 0 2 0 0 1 1 0 1 2 0 2 0 2 2 2 1 2 2 2 2 0 2 1 2\n",
      " 2 0 0 0 2 1 1 1 0 2 1 2 1 0 1 2 2 1 1 0 0 2 1 2 0 2 2 0 0 0 2 2 0 2 0 2 1\n",
      " 0 2 0 0 1 1 1 0 2 2 1 1 2 0 2 1 0 0 1 0 2 0 2 2 1 2 0 2 2 2 1 2 2 2 1 2 0\n",
      " 0 2 2 1 0 0 0 1 2 1 2 1 0 2 1 2 2 0 0 2 0 2 2 0 0 1 0 0 1 1 0 2 0 2 1 2 2\n",
      " 1 0 0 1 1 1 2 0 1 1 2 0 2 0 0 1 1 2 2 2 2 0 2 2 2 2 0 2 1 0 2 0 1 2 1 1 2\n",
      " 1 0 2 0 0 0 0 0 1 2 0 2 2 2 2 1 0 2 0 0 0 1 1 2 0 1 1 2 0 0 1 0 0 1 2 2 1\n",
      " 0 1 2 0 0 0 2 2 2 2 0 0 1 2 1 2 2 0 2 1 2 0 2 2 1 2 0 1 0 0 2 2 0 1 1 1 2\n",
      " 0 1 2 0 2 2 2 0 1 0 2 1 0 0 2 0 2 0 2 1 0 2 2 2 0 1 2 1 1 0 1 0 0 2 1 2 1\n",
      " 1 2 0 1 0 0 2 0 2 2 2 1 0 2 0 2 2 0 1 2 0 0 1 0 1 2 1 0 2 1 0 2 0 2 0 2 0\n",
      " 2 2 1 2 0 1 0 1 0 1 0 2 2 2 2 2 1 0 1 0 1 0 0 1 2 2 2 0 0 2 0 0 1 2]\n"
     ]
    }
   ],
   "source": [
    "from sklearn.cluster import KMeans\n",
    "\n",
    "model = KMeans(n_clusters=3, max_iter=100, random_state=42)\n",
    "\n",
    "train_labels = model.fit_predict(X_train_scaled)\n",
    "\n",
    "print(train_labels)"
   ]
  },
  {
   "cell_type": "markdown",
   "metadata": {},
   "source": [
    "Постройте еще раз диаграмму рассеяния на данных, полученных с помощью TSNE, и раскрасьте точки из разных кластеров разными цветами."
   ]
  },
  {
   "cell_type": "code",
   "execution_count": 43,
   "metadata": {
    "scrolled": true
   },
   "outputs": [
    {
     "data": {
      "text/plain": [
       "<matplotlib.collections.PathCollection at 0x1c94c3ed748>"
      ]
     },
     "execution_count": 43,
     "metadata": {},
     "output_type": "execute_result"
    },
    {
     "data": {
      "image/png": "[encoded data removed]",
      "text/plain": [
       "<Figure size 432x288 with 1 Axes>"
      ]
     },
     "metadata": {
      "needs_background": "light"
     },
     "output_type": "display_data"
    }
   ],
   "source": [
    "#centers = scaler.inverse_transform(model.cluster_centers_)\n",
    "\n",
    "plt.scatter(X_train_tsne[:, 0], X_train_tsne[:, 1], c=train_labels)\n",
    "#plt.scatter(centers[:, 0], centers[:, 1], marker='D', color='red')"
   ]
  },
  {
   "cell_type": "code",
   "execution_count": 46,
   "metadata": {},
   "outputs": [
    {
     "data": {
      "text/html": [
       "<div>\n",
       "<style scoped>\n",
       "    .dataframe tbody tr th:only-of-type {\n",
       "        vertical-align: middle;\n",
       "    }\n",
       "\n",
       "    .dataframe tbody tr th {\n",
       "        vertical-align: top;\n",
       "    }\n",
       "\n",
       "    .dataframe thead th {\n",
       "        text-align: right;\n",
       "    }\n",
       "</style>\n",
       "<table border=\"1\" class=\"dataframe\">\n",
       "  <thead>\n",
       "    <tr style=\"text-align: right;\">\n",
       "      <th></th>\n",
       "      <th>0</th>\n",
       "      <th>1</th>\n",
       "      <th>2</th>\n",
       "      <th>3</th>\n",
       "      <th>4</th>\n",
       "      <th>5</th>\n",
       "      <th>6</th>\n",
       "      <th>7</th>\n",
       "      <th>8</th>\n",
       "      <th>9</th>\n",
       "      <th>10</th>\n",
       "      <th>11</th>\n",
       "      <th>12</th>\n",
       "    </tr>\n",
       "  </thead>\n",
       "  <tbody>\n",
       "    <tr>\n",
       "      <th>0</th>\n",
       "      <td>0.168763</td>\n",
       "      <td>0.00</td>\n",
       "      <td>0.642963</td>\n",
       "      <td>0.0</td>\n",
       "      <td>0.471193</td>\n",
       "      <td>0.293065</td>\n",
       "      <td>0.972194</td>\n",
       "      <td>0.088307</td>\n",
       "      <td>1.000000</td>\n",
       "      <td>0.914122</td>\n",
       "      <td>0.808511</td>\n",
       "      <td>0.880428</td>\n",
       "      <td>0.639625</td>\n",
       "    </tr>\n",
       "    <tr>\n",
       "      <th>1</th>\n",
       "      <td>0.006950</td>\n",
       "      <td>0.00</td>\n",
       "      <td>0.274074</td>\n",
       "      <td>0.0</td>\n",
       "      <td>0.314815</td>\n",
       "      <td>0.400854</td>\n",
       "      <td>0.552008</td>\n",
       "      <td>0.306359</td>\n",
       "      <td>0.130435</td>\n",
       "      <td>0.229008</td>\n",
       "      <td>0.893617</td>\n",
       "      <td>0.996772</td>\n",
       "      <td>0.185982</td>\n",
       "    </tr>\n",
       "    <tr>\n",
       "      <th>2</th>\n",
       "      <td>0.000288</td>\n",
       "      <td>0.35</td>\n",
       "      <td>0.197037</td>\n",
       "      <td>0.0</td>\n",
       "      <td>0.108848</td>\n",
       "      <td>0.440919</td>\n",
       "      <td>0.210093</td>\n",
       "      <td>0.501150</td>\n",
       "      <td>0.000000</td>\n",
       "      <td>0.223282</td>\n",
       "      <td>0.457447</td>\n",
       "      <td>0.912628</td>\n",
       "      <td>0.168322</td>\n",
       "    </tr>\n",
       "    <tr>\n",
       "      <th>3</th>\n",
       "      <td>0.079146</td>\n",
       "      <td>0.00</td>\n",
       "      <td>0.642963</td>\n",
       "      <td>0.0</td>\n",
       "      <td>0.471193</td>\n",
       "      <td>0.455562</td>\n",
       "      <td>0.846550</td>\n",
       "      <td>0.081132</td>\n",
       "      <td>1.000000</td>\n",
       "      <td>0.914122</td>\n",
       "      <td>0.808511</td>\n",
       "      <td>0.005547</td>\n",
       "      <td>0.594923</td>\n",
       "    </tr>\n",
       "    <tr>\n",
       "      <th>4</th>\n",
       "      <td>0.008056</td>\n",
       "      <td>0.00</td>\n",
       "      <td>0.274074</td>\n",
       "      <td>0.0</td>\n",
       "      <td>0.314815</td>\n",
       "      <td>0.379093</td>\n",
       "      <td>0.685891</td>\n",
       "      <td>0.242514</td>\n",
       "      <td>0.130435</td>\n",
       "      <td>0.229008</td>\n",
       "      <td>0.893617</td>\n",
       "      <td>0.984997</td>\n",
       "      <td>0.263521</td>\n",
       "    </tr>\n",
       "  </tbody>\n",
       "</table>\n",
       "</div>"
      ],
      "text/plain": [
       "          0     1         2    3         4         5         6         7  \\\n",
       "0  0.168763  0.00  0.642963  0.0  0.471193  0.293065  0.972194  0.088307   \n",
       "1  0.006950  0.00  0.274074  0.0  0.314815  0.400854  0.552008  0.306359   \n",
       "2  0.000288  0.35  0.197037  0.0  0.108848  0.440919  0.210093  0.501150   \n",
       "3  0.079146  0.00  0.642963  0.0  0.471193  0.455562  0.846550  0.081132   \n",
       "4  0.008056  0.00  0.274074  0.0  0.314815  0.379093  0.685891  0.242514   \n",
       "\n",
       "          8         9        10        11        12  \n",
       "0  1.000000  0.914122  0.808511  0.880428  0.639625  \n",
       "1  0.130435  0.229008  0.893617  0.996772  0.185982  \n",
       "2  0.000000  0.223282  0.457447  0.912628  0.168322  \n",
       "3  1.000000  0.914122  0.808511  0.005547  0.594923  \n",
       "4  0.130435  0.229008  0.893617  0.984997  0.263521  "
      ]
     },
     "execution_count": 46,
     "metadata": {},
     "output_type": "execute_result"
    }
   ],
   "source": [
    "X_train_scaled.head()"
   ]
  },
  {
   "cell_type": "markdown",
   "metadata": {},
   "source": [
    "Вычислите средние значения price и CRIM в разных кластерах."
   ]
  },
  {
   "cell_type": "code",
   "execution_count": 88,
   "metadata": {},
   "outputs": [
    {
     "name": "stdout",
     "output_type": "stream",
     "text": [
      "CRIM Кластер 0: 0\n",
      "CRIM Кластер 1: 13\n",
      "CRIM Кластер 2: 1\n"
     ]
    }
   ],
   "source": [
    "print('CRIM Кластер 0: {}'.format(round(X_train.loc[train_labels == 0, 'CRIM'].mean())))\n",
    "print('CRIM Кластер 1: {}'.format(round(X_train.loc[train_labels == 1, 'CRIM'].mean())))\n",
    "print('CRIM Кластер 2: {}'.format(round(X_train.loc[train_labels == 2, 'CRIM'].mean())))"
   ]
  },
  {
   "cell_type": "code",
   "execution_count": 87,
   "metadata": {},
   "outputs": [
    {
     "name": "stdout",
     "output_type": "stream",
     "text": [
      "Price Кластер 0: 27.0\n",
      "Price Кластер 1: 16.0\n",
      "Price Кластер 2: 23.0\n"
     ]
    }
   ],
   "source": [
    "print('Price Кластер 0: {}'.format(round(y_train[train_labels == 0].mean())))\n",
    "print('Price Кластер 1: {}'.format(round(y_train[train_labels == 1].mean())))\n",
    "print('Price Кластер 2: {}'.format(round(y_train[train_labels == 2].mean())))"
   ]
  },
  {
   "cell_type": "markdown",
   "metadata": {},
   "source": [
    "# Задание 3"
   ]
  },
  {
   "cell_type": "markdown",
   "metadata": {},
   "source": [
    "Примените модель KMeans, построенную в предыдущем задании, к данным из тестового набора."
   ]
  },
  {
   "cell_type": "code",
   "execution_count": 77,
   "metadata": {},
   "outputs": [],
   "source": [
    "test_labels = model.fit_predict(X_test)"
   ]
  },
  {
   "cell_type": "markdown",
   "metadata": {},
   "source": [
    "Вычислите средние значения price и CRIM в разных кластерах на тестовых данных."
   ]
  },
  {
   "cell_type": "code",
   "execution_count": 86,
   "metadata": {},
   "outputs": [
    {
     "name": "stdout",
     "output_type": "stream",
     "text": [
      "CRIM Кластер 0: 19\n",
      "CRIM Кластер 1: 0\n",
      "CRIM Кластер 2: 8\n"
     ]
    }
   ],
   "source": [
    "print('CRIM Кластер 0: {}'.format(round(X_test.loc[test_labels == 0, 'CRIM'].mean())))\n",
    "print('CRIM Кластер 1: {}'.format(round(X_test.loc[test_labels == 1, 'CRIM'].mean())))\n",
    "print('CRIM Кластер 2: {}'.format(round(X_test.loc[test_labels == 2, 'CRIM'].mean())))"
   ]
  },
  {
   "cell_type": "code",
   "execution_count": 85,
   "metadata": {},
   "outputs": [
    {
     "name": "stdout",
     "output_type": "stream",
     "text": [
      "Price Кластер 0: 13.0\n",
      "Price Кластер 1: 24.0\n",
      "Price Кластер 2: 17.0\n"
     ]
    }
   ],
   "source": [
    "print('Price Кластер 0: {}'.format(round(y_test[test_labels == 0].mean())))\n",
    "print('Price Кластер 1: {}'.format(round(y_test[test_labels == 1].mean())))\n",
    "print('Price Кластер 2: {}'.format(round(y_test[test_labels == 2].mean())))"
   ]
  }
 ],
 "metadata": {
  "kernelspec": {
   "display_name": "Python 3",
   "language": "python",
   "name": "python3"
  },
  "language_info": {
   "codemirror_mode": {
    "name": "ipython",
    "version": 3
   },
   "file_extension": ".py",
   "mimetype": "text/x-python",
   "name": "python",
   "nbconvert_exporter": "python",
   "pygments_lexer": "ipython3",
   "version": "3.7.6"
  }
 },
 "nbformat": 4,
 "nbformat_minor": 4
}
